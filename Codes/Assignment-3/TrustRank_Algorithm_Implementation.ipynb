{
  "nbformat": 4,
  "nbformat_minor": 0,
  "metadata": {
    "colab": {
      "provenance": []
    },
    "kernelspec": {
      "name": "python3",
      "display_name": "Python 3"
    },
    "language_info": {
      "name": "python"
    }
  },
  "cells": [
    {
      "cell_type": "code",
      "source": [
        "'''\n",
        "Team Details:\n",
        "\n",
        "SAYANTAN BISWAS - AI19BTECH11015\n",
        "KRISHN VISHWAS KHER - ES19BTECH11015\n",
        "MUKKAVALLI BHARAT CHANDRA - ES19BTECH11016 \n",
        "\n",
        "'''"
      ],
      "metadata": {
        "id": "LCqonORDY47_"
      },
      "execution_count": null,
      "outputs": []
    },
    {
      "cell_type": "code",
      "execution_count": null,
      "metadata": {
        "id": "-ZY_ncFqgix_"
      },
      "outputs": [],
      "source": [
        "import numpy as np\n",
        "import pandas as pd\n",
        "import random"
      ]
    },
    {
      "cell_type": "code",
      "source": [
        "#Taking User input for beta decaying factor\n",
        "beta_decay = float(input(\"Enter Beta Decay Value (<1): \"))\n",
        "num_iterations = int(input(\"Enter number of Iterations: \"))"
      ],
      "metadata": {
        "colab": {
          "base_uri": "https://localhost:8080/"
        },
        "id": "wVvULYsRoMPW",
        "outputId": "cb0e91ff-8c08-485a-93e7-b806177ebc45"
      },
      "execution_count": null,
      "outputs": [
        {
          "name": "stdout",
          "output_type": "stream",
          "text": [
            "Enter Beta Decay Value (<1): 0.85\n",
            "Enter number of Iterations: 100\n"
          ]
        }
      ]
    },
    {
      "cell_type": "code",
      "source": [
        "#Reading the Graph\n",
        "\n",
        "dataset = pd.read_csv(\"graph.txt\", header = None, sep = \"\\s+\")\n",
        "\n",
        "x = np.array(dataset[0])\n",
        "y = np.array(dataset[1])\n"
      ],
      "metadata": {
        "id": "KL116R5HtbSa"
      },
      "execution_count": null,
      "outputs": []
    },
    {
      "cell_type": "code",
      "source": [
        "#Constructing Adjacent Matrix\n",
        "num_vertices = max(dataset[0].max(), dataset[1].max()) + 1\n",
        "\n",
        "#Since it is based on 0 index\n",
        "adj_mat = np.full((num_vertices, num_vertices), 0)\n",
        "indegree = np.full(num_vertices, 0)\n",
        "outdegree = np.full(num_vertices, 0)\n",
        "edge_list = {}\n",
        "\n",
        "\n",
        "for i in range(len(x)):\n",
        "    edge_list[(x[i], y[i])] = 1\n",
        "    adj_mat[x[i]][y[i]] = 1\n",
        "    outdegree[x[i]] += 1 \n",
        "    indegree[y[i]] += 1"
      ],
      "metadata": {
        "id": "OKHLXuP8uJZO"
      },
      "execution_count": null,
      "outputs": []
    },
    {
      "cell_type": "code",
      "source": [
        "def transition_mat(num_vertices, x, y, indegree, outdegree, edge_list):\n",
        "    T = np.full((num_vertices, num_vertices), 0.00)\n",
        "    for i in range(num_vertices):\n",
        "        for j in range(num_vertices):\n",
        "            if (j, i) in edge_list:\n",
        "                T[i][j] = 1/outlinks[j]\n",
        "    return T\n",
        "\n",
        "\n",
        "def inverse_transition_mat(num_vertices, x, y, indegree, outdegree, edge_list):\n",
        "    U = np.full((num_vertices, num_vertices), 0.00)\n",
        "    for i in range(num_vertices):\n",
        "        for j in range(num_vertices):\n",
        "            if (i, j) in edge_list:\n",
        "                U[i][j] = 1/inlinks[j]\n",
        "    return U\n",
        "\n",
        "T = transition_mat(num_vertices, x, y, indegree, outdegree, edge_list)\n",
        "U = inverse_transition_mat(num_vertices, x, y, indegree, outdegree, edge_list)"
      ],
      "metadata": {
        "id": "fTmtqbXnuJWU"
      },
      "execution_count": null,
      "outputs": []
    },
    {
      "cell_type": "code",
      "source": [
        "#Randomly generating the list of good nodes since it is not part of the input\n",
        "import random as rand\n",
        "\n",
        "good_points = []\n",
        "for i in range(num_vertices):\n",
        "    temp = rand.randint(0, num_vertices - 1)\n",
        "    if temp not in good_points:\n",
        "        good_points.append(temp)\n",
        "\n",
        "good_points.sort()\n",
        "good_points = np.array(good_points)"
      ],
      "metadata": {
        "id": "tC5gaVjYGoWU"
      },
      "execution_count": null,
      "outputs": []
    },
    {
      "cell_type": "code",
      "source": [
        "def select_seed(U, num_vertices, beta_decay, num_iterations):\n",
        "    s = np.full((num_vertices), 1.000)\n",
        "    one_mat = np.full((num_vertices), 1.000)\n",
        "    for i in range(num_iterations):\n",
        "        s = beta_decay * np.matmul(U, s) + (1 - beta_decay) * (1/num_iterations) * one_mat\n",
        "\n",
        "    return s \n",
        "\n",
        "def rank(x, s):\n",
        "    store_tup = [[s[i], x[i]] for i in range(len(x))]\n",
        "    store_tup.sort(reverse = True)\n",
        "\n",
        "    x_prime = [i[1] for i in store_tup]\n",
        "\n",
        "    return x_prime\n",
        "\n",
        "\n",
        "def trust_rank(T, U, num_vertices, L, beta_decay, num_iterations, good_points):\n",
        "    s = select_seed(U, num_vertices, beta_decay, num_iterations)\n",
        "    sigma = rank([i for i in range(num_vertices)], s)\n",
        "\n",
        "    d = np.full((num_vertices), 0.000)\n",
        "\n",
        "    for i in range(L):\n",
        "        for sigma[i] in good_points:\n",
        "            d[sigma[i]] = 1.00\n",
        "\n",
        "    d = (1/num_vertices) * d\n",
        "\n",
        "    t_star = d\n",
        "    for i in range(num_iterations):\n",
        "        t_star = beta_decay * np.matmul(T, t_star) + (1 - beta_decay) * d\n",
        "\n",
        "    return t_star \n",
        "\n",
        "L = good_points.shape[0]\n",
        "t_star = trust_rank(T, U, num_vertices, L, beta_decay, num_iterations, good_points)\n",
        "\n",
        "print(t_star)"
      ],
      "metadata": {
        "colab": {
          "base_uri": "https://localhost:8080/"
        },
        "id": "2KIcEFDruJRd",
        "outputId": "3ed40075-0a61-4f1e-c5c8-44294b45f17f"
      },
      "execution_count": null,
      "outputs": [
        {
          "output_type": "stream",
          "name": "stdout",
          "text": [
            "[0.00000000e+00 0.00000000e+00 0.00000000e+00 ... 4.02343645e-05\n",
            " 5.18447466e-05 3.07486295e-04]\n"
          ]
        }
      ]
    },
    {
      "cell_type": "code",
      "source": [
        "import matplotlib.pyplot as plt\n",
        "\n",
        "plt.plot(t_star)\n",
        "plt.xlabel(\"Page Index\")\n",
        "plt.ylabel(\"Trust Rank Score\")\n",
        "plt.show()"
      ],
      "metadata": {
        "colab": {
          "base_uri": "https://localhost:8080/",
          "height": 281
        },
        "id": "u9ymUUL0eKUF",
        "outputId": "0d915c42-05e2-4c64-d3a9-76f981284609"
      },
      "execution_count": null,
      "outputs": [
        {
          "output_type": "display_data",
          "data": {
            "image/png": "[encoded data removed]",
            "text/plain": [
              "<Figure size 432x288 with 1 Axes>"
            ]
          },
          "metadata": {
            "needs_background": "light"
          }
        }
      ]
    }
  ]
}